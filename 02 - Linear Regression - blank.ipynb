{
 "cells": [
  {
   "cell_type": "markdown",
   "metadata": {
    "id": "DAZvw_grVoSk"
   },
   "source": [
    "Name:"
   ]
  },
  {
   "cell_type": "markdown",
   "metadata": {
    "id": "i4rfIGF5VoSl"
   },
   "source": [
    "# Linear Regression Exercise\n",
    "\n",
    "This exercise will guide you in implementing the Linear Regression Model to gain intuitions and develop a deeper understanding of the model. These concepts will form as the foundation for more complex models later on.\n",
    "\n",
    "**You will learn to:**\n",
    "- Build the general architecture of a Linear Regression Model.\n",
    "    - Implement the Analytical solution for the parameters that minimizes the loss function\n",
    "    - Implement the Approximate / Iterative solution for finding the parameters that minimizes the Loss function \n",
    "        - Initializing Parameters\n",
    "        - Calculating the Cost/Loss/Objective Function\n",
    "        - Computing for the gradients of the Loss function with respect to the parameters\n",
    "        - Implement gradient descent to update the paramters\n",
    "        \n",
    "**General Instructions:**\n",
    "- You may add your own variables but you may not delete."
   ]
  },
  {
   "cell_type": "code",
   "execution_count": 1,
   "metadata": {
    "id": "ls0E3dtoVoSm"
   },
   "outputs": [
    {
     "name": "stderr",
     "output_type": "stream",
     "text": [
      "In C:\\Users\\Lance\\Anaconda3\\lib\\site-packages\\matplotlib\\mpl-data\\stylelib\\_classic_test.mplstyle: \n",
      "The text.latex.preview rcparam was deprecated in Matplotlib 3.3 and will be removed two minor releases later.\n",
      "In C:\\Users\\Lance\\Anaconda3\\lib\\site-packages\\matplotlib\\mpl-data\\stylelib\\_classic_test.mplstyle: \n",
      "The mathtext.fallback_to_cm rcparam was deprecated in Matplotlib 3.3 and will be removed two minor releases later.\n",
      "In C:\\Users\\Lance\\Anaconda3\\lib\\site-packages\\matplotlib\\mpl-data\\stylelib\\_classic_test.mplstyle: Support for setting the 'mathtext.fallback_to_cm' rcParam is deprecated since 3.3 and will be removed two minor releases later; use 'mathtext.fallback : 'cm' instead.\n",
      "In C:\\Users\\Lance\\Anaconda3\\lib\\site-packages\\matplotlib\\mpl-data\\stylelib\\_classic_test.mplstyle: \n",
      "The validate_bool_maybe_none function was deprecated in Matplotlib 3.3 and will be removed two minor releases later.\n",
      "In C:\\Users\\Lance\\Anaconda3\\lib\\site-packages\\matplotlib\\mpl-data\\stylelib\\_classic_test.mplstyle: \n",
      "The savefig.jpeg_quality rcparam was deprecated in Matplotlib 3.3 and will be removed two minor releases later.\n",
      "In C:\\Users\\Lance\\Anaconda3\\lib\\site-packages\\matplotlib\\mpl-data\\stylelib\\_classic_test.mplstyle: \n",
      "The keymap.all_axes rcparam was deprecated in Matplotlib 3.3 and will be removed two minor releases later.\n",
      "In C:\\Users\\Lance\\Anaconda3\\lib\\site-packages\\matplotlib\\mpl-data\\stylelib\\_classic_test.mplstyle: \n",
      "The animation.avconv_path rcparam was deprecated in Matplotlib 3.3 and will be removed two minor releases later.\n",
      "In C:\\Users\\Lance\\Anaconda3\\lib\\site-packages\\matplotlib\\mpl-data\\stylelib\\_classic_test.mplstyle: \n",
      "The animation.avconv_args rcparam was deprecated in Matplotlib 3.3 and will be removed two minor releases later.\n"
     ]
    }
   ],
   "source": [
    "import matplotlib.pyplot as plt\n",
    "%matplotlib inline\n",
    "import numpy as np\n",
    "import pandas as pd\n",
    "import math\n",
    "\n",
    "plt.style.use('ggplot')\n",
    "plt.rcParams['figure.figsize'] = (10.0, 8.0)\n",
    "\n",
    "# Fix the seed of the random number \n",
    "# generator so that your results will match ours\n",
    "np.random.seed(1)\n",
    "\n",
    "%load_ext autoreload\n",
    "%autoreload 2"
   ]
  },
  {
   "cell_type": "markdown",
   "metadata": {
    "id": "mRnCsWcuVoSs"
   },
   "source": [
    "## Dataset\n",
    "We will use the sales prices of houses in Kansas City as our dataset. It has 21 columns:\n",
    "\n",
    "1. **id** - (numeric) unique id for each house\n",
    "2. **date** - (string) Date house was sold\n",
    "3. **price** - (numeric) Price at which the house was sold\n",
    "4. **bedrooms** - (numeric) Number of bedrooms\n",
    "5. **bathrooms** - (numeric) Number of bathrooms  / bedrooms\n",
    "6. **sqft_living** - (numeric) Square footage of the house\n",
    "7. **sqft_lot** - (numeric) Square footage of the lot\n",
    "8. **floors** - (numeric) Total floors (levels) in the house\n",
    "9. **waterfront** - (numeric) House which has a view to a waterfront\n",
    "10. **view** - (numeric) Has been viewed (binary)\n",
    "11. **condition** - (numeric) How good he condition is overall\n",
    "12. **grade** - (numeric)  Overall grade given to the housing unit, based on King County grading system\n",
    "13. **sqft_above** - (numeric) Square footage of house apart from basement\n",
    "14. **sqft_basement** - (numeric) Square footage of the basement\n",
    "15. **yr_built** - (numeric) Year the house was built\n",
    "16. **yr_renovated** - (numeric) Year when the house was renovated\n",
    "17. **zipcode** - (numeric) Zip-code\n",
    "18. **lat** - (numeric) Latitude coordinate\n",
    "19. **long** - (numeric) Longitude coordinate\n",
    "20. **sqft_living15** - (numeric) Living room area in 2015(implies-- some renovations). This might or might not have affected the lotsize area\n",
    "21. **sqft_lot15** - (numeric) LotSize area in 2015(implies-- some renovations)"
   ]
  },
  {
   "cell_type": "code",
   "execution_count": 2,
   "metadata": {
    "id": "yE9lpRmPVoSt"
   },
   "outputs": [
    {
     "name": "stdout",
     "output_type": "stream",
     "text": [
      "Shape of the raw data (21613, 21)\n"
     ]
    },
    {
     "data": {
      "text/html": [
       "<div>\n",
       "<style scoped>\n",
       "    .dataframe tbody tr th:only-of-type {\n",
       "        vertical-align: middle;\n",
       "    }\n",
       "\n",
       "    .dataframe tbody tr th {\n",
       "        vertical-align: top;\n",
       "    }\n",
       "\n",
       "    .dataframe thead th {\n",
       "        text-align: right;\n",
       "    }\n",
       "</style>\n",
       "<table border=\"1\" class=\"dataframe\">\n",
       "  <thead>\n",
       "    <tr style=\"text-align: right;\">\n",
       "      <th></th>\n",
       "      <th>id</th>\n",
       "      <th>date</th>\n",
       "      <th>price</th>\n",
       "      <th>bedrooms</th>\n",
       "      <th>bathrooms</th>\n",
       "      <th>sqft_living</th>\n",
       "      <th>sqft_lot</th>\n",
       "      <th>floors</th>\n",
       "      <th>waterfront</th>\n",
       "      <th>view</th>\n",
       "      <th>...</th>\n",
       "      <th>grade</th>\n",
       "      <th>sqft_above</th>\n",
       "      <th>sqft_basement</th>\n",
       "      <th>yr_built</th>\n",
       "      <th>yr_renovated</th>\n",
       "      <th>zipcode</th>\n",
       "      <th>lat</th>\n",
       "      <th>long</th>\n",
       "      <th>sqft_living15</th>\n",
       "      <th>sqft_lot15</th>\n",
       "    </tr>\n",
       "  </thead>\n",
       "  <tbody>\n",
       "    <tr>\n",
       "      <th>0</th>\n",
       "      <td>7129300520</td>\n",
       "      <td>20141013T000000</td>\n",
       "      <td>221900.0</td>\n",
       "      <td>3</td>\n",
       "      <td>1.00</td>\n",
       "      <td>1180</td>\n",
       "      <td>5650</td>\n",
       "      <td>1.0</td>\n",
       "      <td>0</td>\n",
       "      <td>0</td>\n",
       "      <td>...</td>\n",
       "      <td>7</td>\n",
       "      <td>1180</td>\n",
       "      <td>0</td>\n",
       "      <td>1955</td>\n",
       "      <td>0</td>\n",
       "      <td>98178</td>\n",
       "      <td>47.5112</td>\n",
       "      <td>-122.257</td>\n",
       "      <td>1340</td>\n",
       "      <td>5650</td>\n",
       "    </tr>\n",
       "    <tr>\n",
       "      <th>1</th>\n",
       "      <td>6414100192</td>\n",
       "      <td>20141209T000000</td>\n",
       "      <td>538000.0</td>\n",
       "      <td>3</td>\n",
       "      <td>2.25</td>\n",
       "      <td>2570</td>\n",
       "      <td>7242</td>\n",
       "      <td>2.0</td>\n",
       "      <td>0</td>\n",
       "      <td>0</td>\n",
       "      <td>...</td>\n",
       "      <td>7</td>\n",
       "      <td>2170</td>\n",
       "      <td>400</td>\n",
       "      <td>1951</td>\n",
       "      <td>1991</td>\n",
       "      <td>98125</td>\n",
       "      <td>47.7210</td>\n",
       "      <td>-122.319</td>\n",
       "      <td>1690</td>\n",
       "      <td>7639</td>\n",
       "    </tr>\n",
       "    <tr>\n",
       "      <th>2</th>\n",
       "      <td>5631500400</td>\n",
       "      <td>20150225T000000</td>\n",
       "      <td>180000.0</td>\n",
       "      <td>2</td>\n",
       "      <td>1.00</td>\n",
       "      <td>770</td>\n",
       "      <td>10000</td>\n",
       "      <td>1.0</td>\n",
       "      <td>0</td>\n",
       "      <td>0</td>\n",
       "      <td>...</td>\n",
       "      <td>6</td>\n",
       "      <td>770</td>\n",
       "      <td>0</td>\n",
       "      <td>1933</td>\n",
       "      <td>0</td>\n",
       "      <td>98028</td>\n",
       "      <td>47.7379</td>\n",
       "      <td>-122.233</td>\n",
       "      <td>2720</td>\n",
       "      <td>8062</td>\n",
       "    </tr>\n",
       "    <tr>\n",
       "      <th>3</th>\n",
       "      <td>2487200875</td>\n",
       "      <td>20141209T000000</td>\n",
       "      <td>604000.0</td>\n",
       "      <td>4</td>\n",
       "      <td>3.00</td>\n",
       "      <td>1960</td>\n",
       "      <td>5000</td>\n",
       "      <td>1.0</td>\n",
       "      <td>0</td>\n",
       "      <td>0</td>\n",
       "      <td>...</td>\n",
       "      <td>7</td>\n",
       "      <td>1050</td>\n",
       "      <td>910</td>\n",
       "      <td>1965</td>\n",
       "      <td>0</td>\n",
       "      <td>98136</td>\n",
       "      <td>47.5208</td>\n",
       "      <td>-122.393</td>\n",
       "      <td>1360</td>\n",
       "      <td>5000</td>\n",
       "    </tr>\n",
       "    <tr>\n",
       "      <th>4</th>\n",
       "      <td>1954400510</td>\n",
       "      <td>20150218T000000</td>\n",
       "      <td>510000.0</td>\n",
       "      <td>3</td>\n",
       "      <td>2.00</td>\n",
       "      <td>1680</td>\n",
       "      <td>8080</td>\n",
       "      <td>1.0</td>\n",
       "      <td>0</td>\n",
       "      <td>0</td>\n",
       "      <td>...</td>\n",
       "      <td>8</td>\n",
       "      <td>1680</td>\n",
       "      <td>0</td>\n",
       "      <td>1987</td>\n",
       "      <td>0</td>\n",
       "      <td>98074</td>\n",
       "      <td>47.6168</td>\n",
       "      <td>-122.045</td>\n",
       "      <td>1800</td>\n",
       "      <td>7503</td>\n",
       "    </tr>\n",
       "  </tbody>\n",
       "</table>\n",
       "<p>5 rows × 21 columns</p>\n",
       "</div>"
      ],
      "text/plain": [
       "           id             date     price  bedrooms  bathrooms  sqft_living  \\\n",
       "0  7129300520  20141013T000000  221900.0         3       1.00         1180   \n",
       "1  6414100192  20141209T000000  538000.0         3       2.25         2570   \n",
       "2  5631500400  20150225T000000  180000.0         2       1.00          770   \n",
       "3  2487200875  20141209T000000  604000.0         4       3.00         1960   \n",
       "4  1954400510  20150218T000000  510000.0         3       2.00         1680   \n",
       "\n",
       "   sqft_lot  floors  waterfront  view  ...  grade  sqft_above  sqft_basement  \\\n",
       "0      5650     1.0           0     0  ...      7        1180              0   \n",
       "1      7242     2.0           0     0  ...      7        2170            400   \n",
       "2     10000     1.0           0     0  ...      6         770              0   \n",
       "3      5000     1.0           0     0  ...      7        1050            910   \n",
       "4      8080     1.0           0     0  ...      8        1680              0   \n",
       "\n",
       "   yr_built  yr_renovated  zipcode      lat     long  sqft_living15  \\\n",
       "0      1955             0    98178  47.5112 -122.257           1340   \n",
       "1      1951          1991    98125  47.7210 -122.319           1690   \n",
       "2      1933             0    98028  47.7379 -122.233           2720   \n",
       "3      1965             0    98136  47.5208 -122.393           1360   \n",
       "4      1987             0    98074  47.6168 -122.045           1800   \n",
       "\n",
       "   sqft_lot15  \n",
       "0        5650  \n",
       "1        7639  \n",
       "2        8062  \n",
       "3        5000  \n",
       "4        7503  \n",
       "\n",
       "[5 rows x 21 columns]"
      ]
     },
     "execution_count": 2,
     "metadata": {},
     "output_type": "execute_result"
    }
   ],
   "source": [
    "# reads the csv file and converts it into a pandas dataframe\n",
    "rawData = pd.read_csv('kc_house_data.csv')\n",
    "print(\"Shape of the raw data\", rawData.shape)\n",
    "\n",
    "# displays the first 5 entries\n",
    "rawData.head()"
   ]
  },
  {
   "cell_type": "markdown",
   "metadata": {
    "id": "PkdVjZPUVoSy"
   },
   "source": [
    "Our goal is to predict the price of a house using the information available (i.e. all the columns except for the price). For now, we will only use one feature / variable (sqft_living) to be able to visualize the dataset in a 2D plane."
   ]
  },
  {
   "cell_type": "code",
   "execution_count": 3,
   "metadata": {
    "id": "3RmHKPSJVoS0"
   },
   "outputs": [
    {
     "data": {
      "text/html": [
       "<div>\n",
       "<style scoped>\n",
       "    .dataframe tbody tr th:only-of-type {\n",
       "        vertical-align: middle;\n",
       "    }\n",
       "\n",
       "    .dataframe tbody tr th {\n",
       "        vertical-align: top;\n",
       "    }\n",
       "\n",
       "    .dataframe thead th {\n",
       "        text-align: right;\n",
       "    }\n",
       "</style>\n",
       "<table border=\"1\" class=\"dataframe\">\n",
       "  <thead>\n",
       "    <tr style=\"text-align: right;\">\n",
       "      <th></th>\n",
       "      <th>id</th>\n",
       "      <th>price</th>\n",
       "      <th>bedrooms</th>\n",
       "      <th>bathrooms</th>\n",
       "      <th>sqft_living</th>\n",
       "      <th>sqft_lot</th>\n",
       "      <th>floors</th>\n",
       "      <th>waterfront</th>\n",
       "      <th>view</th>\n",
       "      <th>condition</th>\n",
       "      <th>grade</th>\n",
       "      <th>sqft_above</th>\n",
       "      <th>sqft_basement</th>\n",
       "      <th>yr_built</th>\n",
       "      <th>yr_renovated</th>\n",
       "      <th>zipcode</th>\n",
       "      <th>lat</th>\n",
       "      <th>long</th>\n",
       "      <th>sqft_living15</th>\n",
       "      <th>sqft_lot15</th>\n",
       "    </tr>\n",
       "  </thead>\n",
       "  <tbody>\n",
       "    <tr>\n",
       "      <th>count</th>\n",
       "      <td>2.161300e+04</td>\n",
       "      <td>2.161300e+04</td>\n",
       "      <td>21613.000000</td>\n",
       "      <td>21613.000000</td>\n",
       "      <td>21613.000000</td>\n",
       "      <td>2.161300e+04</td>\n",
       "      <td>21613.000000</td>\n",
       "      <td>21613.000000</td>\n",
       "      <td>21613.000000</td>\n",
       "      <td>21613.000000</td>\n",
       "      <td>21613.000000</td>\n",
       "      <td>21613.000000</td>\n",
       "      <td>21613.000000</td>\n",
       "      <td>21613.000000</td>\n",
       "      <td>21613.000000</td>\n",
       "      <td>21613.000000</td>\n",
       "      <td>21613.000000</td>\n",
       "      <td>21613.000000</td>\n",
       "      <td>21613.000000</td>\n",
       "      <td>21613.000000</td>\n",
       "    </tr>\n",
       "    <tr>\n",
       "      <th>mean</th>\n",
       "      <td>4.580302e+09</td>\n",
       "      <td>5.400881e+05</td>\n",
       "      <td>3.370842</td>\n",
       "      <td>2.114757</td>\n",
       "      <td>2079.899736</td>\n",
       "      <td>1.510697e+04</td>\n",
       "      <td>1.494309</td>\n",
       "      <td>0.007542</td>\n",
       "      <td>0.234303</td>\n",
       "      <td>3.409430</td>\n",
       "      <td>7.656873</td>\n",
       "      <td>1788.390691</td>\n",
       "      <td>291.509045</td>\n",
       "      <td>1971.005136</td>\n",
       "      <td>84.402258</td>\n",
       "      <td>98077.939805</td>\n",
       "      <td>47.560053</td>\n",
       "      <td>-122.213896</td>\n",
       "      <td>1986.552492</td>\n",
       "      <td>12768.455652</td>\n",
       "    </tr>\n",
       "    <tr>\n",
       "      <th>std</th>\n",
       "      <td>2.876566e+09</td>\n",
       "      <td>3.671272e+05</td>\n",
       "      <td>0.930062</td>\n",
       "      <td>0.770163</td>\n",
       "      <td>918.440897</td>\n",
       "      <td>4.142051e+04</td>\n",
       "      <td>0.539989</td>\n",
       "      <td>0.086517</td>\n",
       "      <td>0.766318</td>\n",
       "      <td>0.650743</td>\n",
       "      <td>1.175459</td>\n",
       "      <td>828.090978</td>\n",
       "      <td>442.575043</td>\n",
       "      <td>29.373411</td>\n",
       "      <td>401.679240</td>\n",
       "      <td>53.505026</td>\n",
       "      <td>0.138564</td>\n",
       "      <td>0.140828</td>\n",
       "      <td>685.391304</td>\n",
       "      <td>27304.179631</td>\n",
       "    </tr>\n",
       "    <tr>\n",
       "      <th>min</th>\n",
       "      <td>1.000102e+06</td>\n",
       "      <td>7.500000e+04</td>\n",
       "      <td>0.000000</td>\n",
       "      <td>0.000000</td>\n",
       "      <td>290.000000</td>\n",
       "      <td>5.200000e+02</td>\n",
       "      <td>1.000000</td>\n",
       "      <td>0.000000</td>\n",
       "      <td>0.000000</td>\n",
       "      <td>1.000000</td>\n",
       "      <td>1.000000</td>\n",
       "      <td>290.000000</td>\n",
       "      <td>0.000000</td>\n",
       "      <td>1900.000000</td>\n",
       "      <td>0.000000</td>\n",
       "      <td>98001.000000</td>\n",
       "      <td>47.155900</td>\n",
       "      <td>-122.519000</td>\n",
       "      <td>399.000000</td>\n",
       "      <td>651.000000</td>\n",
       "    </tr>\n",
       "    <tr>\n",
       "      <th>25%</th>\n",
       "      <td>2.123049e+09</td>\n",
       "      <td>3.219500e+05</td>\n",
       "      <td>3.000000</td>\n",
       "      <td>1.750000</td>\n",
       "      <td>1427.000000</td>\n",
       "      <td>5.040000e+03</td>\n",
       "      <td>1.000000</td>\n",
       "      <td>0.000000</td>\n",
       "      <td>0.000000</td>\n",
       "      <td>3.000000</td>\n",
       "      <td>7.000000</td>\n",
       "      <td>1190.000000</td>\n",
       "      <td>0.000000</td>\n",
       "      <td>1951.000000</td>\n",
       "      <td>0.000000</td>\n",
       "      <td>98033.000000</td>\n",
       "      <td>47.471000</td>\n",
       "      <td>-122.328000</td>\n",
       "      <td>1490.000000</td>\n",
       "      <td>5100.000000</td>\n",
       "    </tr>\n",
       "    <tr>\n",
       "      <th>50%</th>\n",
       "      <td>3.904930e+09</td>\n",
       "      <td>4.500000e+05</td>\n",
       "      <td>3.000000</td>\n",
       "      <td>2.250000</td>\n",
       "      <td>1910.000000</td>\n",
       "      <td>7.618000e+03</td>\n",
       "      <td>1.500000</td>\n",
       "      <td>0.000000</td>\n",
       "      <td>0.000000</td>\n",
       "      <td>3.000000</td>\n",
       "      <td>7.000000</td>\n",
       "      <td>1560.000000</td>\n",
       "      <td>0.000000</td>\n",
       "      <td>1975.000000</td>\n",
       "      <td>0.000000</td>\n",
       "      <td>98065.000000</td>\n",
       "      <td>47.571800</td>\n",
       "      <td>-122.230000</td>\n",
       "      <td>1840.000000</td>\n",
       "      <td>7620.000000</td>\n",
       "    </tr>\n",
       "    <tr>\n",
       "      <th>75%</th>\n",
       "      <td>7.308900e+09</td>\n",
       "      <td>6.450000e+05</td>\n",
       "      <td>4.000000</td>\n",
       "      <td>2.500000</td>\n",
       "      <td>2550.000000</td>\n",
       "      <td>1.068800e+04</td>\n",
       "      <td>2.000000</td>\n",
       "      <td>0.000000</td>\n",
       "      <td>0.000000</td>\n",
       "      <td>4.000000</td>\n",
       "      <td>8.000000</td>\n",
       "      <td>2210.000000</td>\n",
       "      <td>560.000000</td>\n",
       "      <td>1997.000000</td>\n",
       "      <td>0.000000</td>\n",
       "      <td>98118.000000</td>\n",
       "      <td>47.678000</td>\n",
       "      <td>-122.125000</td>\n",
       "      <td>2360.000000</td>\n",
       "      <td>10083.000000</td>\n",
       "    </tr>\n",
       "    <tr>\n",
       "      <th>max</th>\n",
       "      <td>9.900000e+09</td>\n",
       "      <td>7.700000e+06</td>\n",
       "      <td>33.000000</td>\n",
       "      <td>8.000000</td>\n",
       "      <td>13540.000000</td>\n",
       "      <td>1.651359e+06</td>\n",
       "      <td>3.500000</td>\n",
       "      <td>1.000000</td>\n",
       "      <td>4.000000</td>\n",
       "      <td>5.000000</td>\n",
       "      <td>13.000000</td>\n",
       "      <td>9410.000000</td>\n",
       "      <td>4820.000000</td>\n",
       "      <td>2015.000000</td>\n",
       "      <td>2015.000000</td>\n",
       "      <td>98199.000000</td>\n",
       "      <td>47.777600</td>\n",
       "      <td>-121.315000</td>\n",
       "      <td>6210.000000</td>\n",
       "      <td>871200.000000</td>\n",
       "    </tr>\n",
       "  </tbody>\n",
       "</table>\n",
       "</div>"
      ],
      "text/plain": [
       "                 id         price      bedrooms     bathrooms   sqft_living  \\\n",
       "count  2.161300e+04  2.161300e+04  21613.000000  21613.000000  21613.000000   \n",
       "mean   4.580302e+09  5.400881e+05      3.370842      2.114757   2079.899736   \n",
       "std    2.876566e+09  3.671272e+05      0.930062      0.770163    918.440897   \n",
       "min    1.000102e+06  7.500000e+04      0.000000      0.000000    290.000000   \n",
       "25%    2.123049e+09  3.219500e+05      3.000000      1.750000   1427.000000   \n",
       "50%    3.904930e+09  4.500000e+05      3.000000      2.250000   1910.000000   \n",
       "75%    7.308900e+09  6.450000e+05      4.000000      2.500000   2550.000000   \n",
       "max    9.900000e+09  7.700000e+06     33.000000      8.000000  13540.000000   \n",
       "\n",
       "           sqft_lot        floors    waterfront          view     condition  \\\n",
       "count  2.161300e+04  21613.000000  21613.000000  21613.000000  21613.000000   \n",
       "mean   1.510697e+04      1.494309      0.007542      0.234303      3.409430   \n",
       "std    4.142051e+04      0.539989      0.086517      0.766318      0.650743   \n",
       "min    5.200000e+02      1.000000      0.000000      0.000000      1.000000   \n",
       "25%    5.040000e+03      1.000000      0.000000      0.000000      3.000000   \n",
       "50%    7.618000e+03      1.500000      0.000000      0.000000      3.000000   \n",
       "75%    1.068800e+04      2.000000      0.000000      0.000000      4.000000   \n",
       "max    1.651359e+06      3.500000      1.000000      4.000000      5.000000   \n",
       "\n",
       "              grade    sqft_above  sqft_basement      yr_built  yr_renovated  \\\n",
       "count  21613.000000  21613.000000   21613.000000  21613.000000  21613.000000   \n",
       "mean       7.656873   1788.390691     291.509045   1971.005136     84.402258   \n",
       "std        1.175459    828.090978     442.575043     29.373411    401.679240   \n",
       "min        1.000000    290.000000       0.000000   1900.000000      0.000000   \n",
       "25%        7.000000   1190.000000       0.000000   1951.000000      0.000000   \n",
       "50%        7.000000   1560.000000       0.000000   1975.000000      0.000000   \n",
       "75%        8.000000   2210.000000     560.000000   1997.000000      0.000000   \n",
       "max       13.000000   9410.000000    4820.000000   2015.000000   2015.000000   \n",
       "\n",
       "            zipcode           lat          long  sqft_living15     sqft_lot15  \n",
       "count  21613.000000  21613.000000  21613.000000   21613.000000   21613.000000  \n",
       "mean   98077.939805     47.560053   -122.213896    1986.552492   12768.455652  \n",
       "std       53.505026      0.138564      0.140828     685.391304   27304.179631  \n",
       "min    98001.000000     47.155900   -122.519000     399.000000     651.000000  \n",
       "25%    98033.000000     47.471000   -122.328000    1490.000000    5100.000000  \n",
       "50%    98065.000000     47.571800   -122.230000    1840.000000    7620.000000  \n",
       "75%    98118.000000     47.678000   -122.125000    2360.000000   10083.000000  \n",
       "max    98199.000000     47.777600   -121.315000    6210.000000  871200.000000  "
      ]
     },
     "execution_count": 3,
     "metadata": {},
     "output_type": "execute_result"
    }
   ],
   "source": [
    "# common summary statistics\n",
    "rawData.describe()"
   ]
  },
  {
   "cell_type": "code",
   "execution_count": 4,
   "metadata": {
    "id": "fm5WCHUxVoS4",
    "scrolled": true
   },
   "outputs": [],
   "source": [
    "# this gets the columns \"sqft living\" and \"price\"\n",
    "data = rawData[['sqft_living', 'price']]\n",
    "data.head()\n",
    "\n",
    "# convert the pandas dataframe to numpy array\n",
    "data = data.to_numpy()"
   ]
  },
  {
   "cell_type": "code",
   "execution_count": 5,
   "metadata": {},
   "outputs": [
    {
     "data": {
      "text/plain": [
       "array([[  1180., 221900.],\n",
       "       [  2570., 538000.],\n",
       "       [   770., 180000.],\n",
       "       ...,\n",
       "       [  1020., 402101.],\n",
       "       [  1600., 400000.],\n",
       "       [  1020., 325000.]])"
      ]
     },
     "execution_count": 5,
     "metadata": {},
     "output_type": "execute_result"
    }
   ],
   "source": [
    "data"
   ]
  },
  {
   "cell_type": "markdown",
   "metadata": {
    "id": "dgm8SLD3VoS9"
   },
   "source": [
    "Now, we will separate our dataset into 2 datasets: the **train** and **test** datasets.\n",
    "\n",
    "The linear regression model will look for a good set of **weights/theta** after looking at the train dataset. After training, we will confirm with the never-before-trained-on test set and see if the weights we learned will still perform well."
   ]
  },
  {
   "cell_type": "code",
   "execution_count": 6,
   "metadata": {
    "id": "OmD98v2fVoS9"
   },
   "outputs": [
    {
     "name": "stdout",
     "output_type": "stream",
     "text": [
      "Training data shape: (15129, 1)\n",
      "Training ground truth values shape: (15129, 1)\n",
      "Validation data shape: (3242, 1)\n",
      "Validation ground truth values shape: (3242, 1)\n",
      "Test data shape: (3242, 1)\n",
      "Test ground truth values shape: (3242, 1)\n"
     ]
    }
   ],
   "source": [
    "num_data = data.shape[0]\n",
    "\n",
    "# Split the dataset into train, val, and test\n",
    "train_percentage = 0.7\n",
    "num_train = np.floor(num_data*train_percentage).astype(int)\n",
    "num_val = (num_data - num_train) // 2\n",
    "num_test = (num_data - num_train) // 2\n",
    "\n",
    "# numpy.expand_dims inserts a new axis / dimension. \n",
    "# This is makes it more convenient to process later on\n",
    "# doc url: https://docs.scipy.org/doc/numpy/reference/generated/numpy.expand_dims.html\n",
    "X_train = np.expand_dims(data[0:num_train,0], -1)\n",
    "y_train = np.expand_dims(data[0:num_train,1], -1)\n",
    "\n",
    "X_val = np.expand_dims(data[num_train:num_train+num_val,0], -1)\n",
    "y_val = np.expand_dims(data[num_train:num_train+num_val,1], -1)\n",
    "\n",
    "X_test = np.expand_dims(data[num_train+num_val:num_train+num_val+num_test,0], -1)\n",
    "y_test = np.expand_dims(data[num_train+num_val:num_train+num_val+num_test,1], -1)\n",
    "\n",
    "print('Training data shape:',X_train.shape)\n",
    "print('Training ground truth values shape:',y_train.shape)\n",
    "\n",
    "print('Validation data shape:',X_val.shape)\n",
    "print('Validation ground truth values shape:',y_val.shape)\n",
    "\n",
    "print('Test data shape:',X_test.shape)\n",
    "print('Test ground truth values shape:',y_test.shape)"
   ]
  },
  {
   "cell_type": "code",
   "execution_count": 7,
   "metadata": {
    "id": "B3WEIEhWVoTC"
   },
   "outputs": [
    {
     "data": {
      "text/plain": [
       "(0.0, 1500000.0)"
      ]
     },
     "execution_count": 7,
     "metadata": {},
     "output_type": "execute_result"
    },
    {
     "data": {
      "image/png": "[encoded data removed]",
      "text/plain": [
       "<Figure size 432x288 with 1 Axes>"
      ]
     },
     "metadata": {
      "needs_background": "light"
     },
     "output_type": "display_data"
    }
   ],
   "source": [
    "# plot the data\n",
    "plt.scatter(X_train,y_train,c='green')\n",
    "plt.ylabel(\"Price\")\n",
    "plt.xlabel(\"Living area\")\n",
    "plt.xlim([0,5000])\n",
    "plt.ylim([0,1500000])"
   ]
  },
  {
   "cell_type": "markdown",
   "metadata": {
    "id": "W9EKtwmVVoTI"
   },
   "source": [
    "From the plot above, we can see the (positive) linear relationship between the living area of the house and its price."
   ]
  },
  {
   "cell_type": "markdown",
   "metadata": {
    "id": "c6o4MT3BVoTJ"
   },
   "source": [
    "# Linear Regression"
   ]
  },
  {
   "cell_type": "markdown",
   "metadata": {
    "id": "h3n4SafzVoTK"
   },
   "source": [
    "## Data Setup\n",
    "$X \\in \\mathbb{R}^{N,D}$ - our data is represented as a matrix with $N$ rows and $D$ columns, where each row is a $D$-dimensional feature vector representing an instance / example in our dataset.\n",
    "\n",
    "$y \\in \\mathbb{R}^N$ - the prediction target is represented as a vector of length $N$.  \n"
   ]
  },
  {
   "cell_type": "markdown",
   "metadata": {
    "id": "l-rDRb81VoTK"
   },
   "source": [
    "## Method 1: Analytical solution/Closed form/Normal Equation\n",
    "\n",
    "We can quickly compute for the weights by getting the derivative of our objective function and equating it to 0. However, there are some drawbacks to using this method, as you would see in the following cells.\n",
    "\n",
    "The next cells show the step-by-step process of implementing the closed form solution of linear regression:\n",
    "1. Adding $w_0$ in the weight vector $W$ and $x_0$ in $X$ to account for the bias term.\n",
    "1. Finding for the optimal values of weight vector W using the normal equation.\n",
    "3. Do some predictions! Now that we have the weights, the label can be solved by plugging in the features $x$ into the linear model. "
   ]
  },
  {
   "cell_type": "markdown",
   "metadata": {
    "id": "P2cz9m3sVoTL"
   },
   "source": [
    "### Step 1: Pre-processing! Add in a vector of one to X to account for the bias\n",
    "This just appends a vector of ones to the dimension of your feature vector to accomodate for the bias / constant term in our hypothesis function.\n",
    "\n",
    "**Open `linear_regression.py`, and fill in the code for the function `feature_transform`.**"
   ]
  },
  {
   "cell_type": "code",
   "execution_count": 8,
   "metadata": {
    "id": "qrCxTk1lVoTN"
   },
   "outputs": [],
   "source": [
    "from linear_regression import LinearRegression"
   ]
  },
  {
   "cell_type": "markdown",
   "metadata": {
    "id": "DPNTpBfmVoTR"
   },
   "source": [
    "We will first use a smaller 'dummy' data to make it easier to test and debug your code."
   ]
  },
  {
   "cell_type": "code",
   "execution_count": 9,
   "metadata": {},
   "outputs": [],
   "source": [
    "def add_1(old_df):\n",
    "    df = old_df\n",
    "    n = old_df.shape[0]\n",
    "    b = np.ones((n,1))\n",
    "    dfn = np.append(df,b,axis=1)\n",
    "    return dfn"
   ]
  },
  {
   "cell_type": "code",
   "execution_count": 10,
   "metadata": {
    "id": "FWzPg-AvVoTS",
    "scrolled": false
   },
   "outputs": [
    {
     "name": "stdout",
     "output_type": "stream",
     "text": [
      "Before feature transform:\n",
      "[[ 1.62434536 -0.61175641 -0.52817175]\n",
      " [-1.07296862  0.86540763 -2.3015387 ]\n",
      " [ 1.74481176 -0.7612069   0.3190391 ]\n",
      " [-0.24937038  1.46210794 -2.06014071]\n",
      " [-0.3224172  -0.38405435  1.13376944]]\n",
      "Shape: (5, 3)\n",
      "After feature transform:\n",
      "[[ 1.62434536 -0.61175641 -0.52817175  1.        ]\n",
      " [-1.07296862  0.86540763 -2.3015387   1.        ]\n",
      " [ 1.74481176 -0.7612069   0.3190391   1.        ]\n",
      " [-0.24937038  1.46210794 -2.06014071  1.        ]\n",
      " [-0.3224172  -0.38405435  1.13376944  1.        ]]\n",
      "Shape: (5, 4)\n"
     ]
    }
   ],
   "source": [
    "regressor = LinearRegression()\n",
    "np.random.seed(1)\n",
    "dummy_X = np.random.randn(5,3)\n",
    "dummy_transformed_X = regressor.feature_transform(dummy_X)\n",
    "\n",
    "print(\"Before feature transform:\")\n",
    "print(dummy_X)\n",
    "print(\"Shape:\",dummy_X.shape)\n",
    "print(\"After feature transform:\")\n",
    "print(dummy_transformed_X)\n",
    "print(\"Shape:\",dummy_transformed_X.shape)"
   ]
  },
  {
   "cell_type": "markdown",
   "metadata": {
    "id": "tAp7PyG5VoTW"
   },
   "source": [
    "**Sanity Check**: \n",
    "\n",
    "Expected output of the feature transform function.\n",
    "\n",
    "Before feature transform:\n",
    "```\n",
    "[[ 1.62434536 -0.61175641 -0.52817175]\n",
    " [-1.07296862  0.86540763 -2.3015387 ]\n",
    " [ 1.74481176 -0.7612069   0.3190391 ]\n",
    " [-0.24937038  1.46210794 -2.06014071]\n",
    " [-0.3224172  -0.38405435  1.13376944]]\n",
    "Shape: (5, 3)\n",
    "```\n",
    "After feature transform:\n",
    "\n",
    "```\n",
    "[[ 1.62434536 -0.61175641 -0.52817175  1.        ]\n",
    " [-1.07296862  0.86540763 -2.3015387   1.        ]\n",
    " [ 1.74481176 -0.7612069   0.3190391   1.        ]\n",
    " [-0.24937038  1.46210794 -2.06014071  1.        ]\n",
    " [-0.3224172  -0.38405435  1.13376944  1.        ]]\n",
    "Shape: (5, 4)\n",
    "```"
   ]
  },
  {
   "cell_type": "markdown",
   "metadata": {
    "id": "21LipBGGVoTW"
   },
   "source": [
    "### Step 2: Train! Compute for the weights via closed form/analytical solution\n",
    "**In `linear_regression.py`, fill in the code for the function `train_analytic`.**"
   ]
  },
  {
   "cell_type": "code",
   "execution_count": 11,
   "metadata": {},
   "outputs": [],
   "source": [
    "def w_vector(X, y):\n",
    "    return np.linalg.pinv(X.T.dot(X)).dot(X.T).dot(y)"
   ]
  },
  {
   "cell_type": "code",
   "execution_count": 12,
   "metadata": {},
   "outputs": [],
   "source": [
    "def mac_vector(x, y):\n",
    "    x_transpose = np.transpose(x)   #calculating transpose\n",
    "    x_transpose_dot_x = x_transpose.dot(x)  # calculating dot product\n",
    "    temp_1 = np.linalg.pinv(x_transpose_dot_x) #calculating inverse\n",
    "    temp_2 = x_transpose.dot(y)\n",
    "    theta = temp_1.dot(temp_2)\n",
    "    return theta"
   ]
  },
  {
   "cell_type": "code",
   "execution_count": 13,
   "metadata": {},
   "outputs": [
    {
     "name": "stdout",
     "output_type": "stream",
     "text": [
      "[[1. ]\n",
      " [0.5]]\n"
     ]
    }
   ],
   "source": [
    "X = np.c_[[1,1,1],[1,2,3]] # defining features\n",
    "y = np.c_[[1,3,2]] # defining labels\n",
    "theta = np.linalg.inv(X.T.dot(X)).dot(X.T).dot(y) # normal equation\n",
    "print(theta)"
   ]
  },
  {
   "cell_type": "code",
   "execution_count": 14,
   "metadata": {
    "id": "Bw3N4zd3VoTX"
   },
   "outputs": [
    {
     "name": "stdout",
     "output_type": "stream",
     "text": [
      "Weight vector:\n",
      "[[-0.70918566]\n",
      " [-0.49369412]\n",
      " [ 0.39606928]\n",
      " [-0.02488702]]\n"
     ]
    }
   ],
   "source": [
    "np.random.seed(1)\n",
    "dummy_X = np.random.randn(5,4)\n",
    "dummy_y = np.random.randn(5,1)\n",
    "regressor.train_analytic(dummy_X,dummy_y)\n",
    "\n",
    "print(\"Weight vector:\")\n",
    "print(regressor.params['W'])"
   ]
  },
  {
   "cell_type": "markdown",
   "metadata": {
    "id": "Apr-465WVoTb"
   },
   "source": [
    "**Sanity Check**: \n",
    "\n",
    "Expected weights $W$.\n",
    "\n",
    "Weight vector:\n",
    "```\n",
    "[[ 3.58229626]\n",
    " [ 4.10375196]\n",
    " [ 4.66577618]\n",
    " [ 4.14835304]\n",
    " [ 2.50637491]]\n",
    "```"
   ]
  },
  {
   "cell_type": "markdown",
   "metadata": {
    "id": "wHSLcK8DVoTb"
   },
   "source": [
    "### Step 3: Test! Predict test data with the weights computed\n",
    "**In `linear_regression.py`, fill in the code for the function `predict`.**"
   ]
  },
  {
   "cell_type": "code",
   "execution_count": 15,
   "metadata": {
    "id": "rMBAIeLtVoTc"
   },
   "outputs": [
    {
     "name": "stdout",
     "output_type": "stream",
     "text": [
      "Input \t\t\t\t\t\t\t Predictions\n",
      "[ 1.62434536 -0.61175641 -0.52817175 -1.07296862] \t [-1.03243151]\n",
      "[ 0.86540763 -2.3015387   1.74481176 -0.7612069 ] \t [1.23253196]\n",
      "[ 0.3190391  -0.24937038  1.46210794 -2.06014071] \t [0.52722154]\n",
      "[-0.3224172  -0.38405435  1.13376944 -1.09989127] \t [0.8946833]\n",
      "[-0.17242821 -0.87785842  0.04221375  0.58281521] \t [0.55789219]\n"
     ]
    }
   ],
   "source": [
    "np.random.seed(1)\n",
    "dummy_X = np.random.randn(5,4)\n",
    "dummy_y = np.random.randn(5,1)\n",
    "regressor.train_analytic(dummy_X,dummy_y)\n",
    "predictions = regressor.predict(dummy_X)\n",
    "\n",
    "print(\"Input\",'\\t\\t\\t\\t\\t\\t\\t','Predictions')\n",
    "for i in range(dummy_X.shape[0]):\n",
    "    print(dummy_X[i],'\\t',predictions[i])"
   ]
  },
  {
   "cell_type": "markdown",
   "metadata": {
    "id": "u5FUUALCVoTg"
   },
   "source": [
    "**Sanity Check**: \n",
    "\n",
    "Expected output:\n",
    "\n",
    "```\n",
    "Input \t\t\t\t\t\t\t                     Predictions\n",
    "[ 1.62434536 -0.61175641 -0.52817175 -1.07296862] \t [-1.10061918]\n",
    "[ 0.86540763 -2.3015387   1.74481176 -0.7612069 ] \t [ 1.14472371]\n",
    "[ 0.3190391  -0.24937038  1.46210794 -2.06014071] \t [ 0.90159072]\n",
    "[-0.3224172  -0.38405435  1.13376944 -1.09989127] \t [ 0.50249434]\n",
    "[-0.17242821 -0.87785842  0.04221375  0.58281521] \t [ 0.90085595]\n",
    "```"
   ]
  },
  {
   "cell_type": "markdown",
   "metadata": {
    "id": "QtdEKN3ZVoTh"
   },
   "source": [
    "### You have now successfully implemented the analytical solution for Linear Regression. Let's try it out on actual (non-dummy) data."
   ]
  },
  {
   "cell_type": "code",
   "execution_count": 16,
   "metadata": {
    "id": "H-SAAP0iVoTi",
    "scrolled": true
   },
   "outputs": [
    {
     "name": "stdout",
     "output_type": "stream",
     "text": [
      "Weights W:\n",
      "[[263.62221]]\n"
     ]
    }
   ],
   "source": [
    "regressor = LinearRegression()\n",
    "regressor.train_analytic(X_train,y_train)\n",
    "\n",
    "print(\"Weights W:\")\n",
    "print(regressor.params[\"W\"])"
   ]
  },
  {
   "cell_type": "markdown",
   "metadata": {
    "id": "Joq7U4CkVoTn"
   },
   "source": [
    "### Visualize. It helps to check how our hypothesis \"line\" looks like plotted with our data. Let's visualize using our weights."
   ]
  },
  {
   "cell_type": "code",
   "execution_count": 17,
   "metadata": {
    "id": "OwqsB98_VoTo",
    "scrolled": false
   },
   "outputs": [
    {
     "data": {
      "text/plain": [
       "Text(0.5, 0, 'Living area')"
      ]
     },
     "execution_count": 17,
     "metadata": {},
     "output_type": "execute_result"
    },
    {
     "data": {
      "image/png": "[encoded data removed]",
      "text/plain": [
       "<Figure size 432x288 with 1 Axes>"
      ]
     },
     "metadata": {
      "needs_background": "light"
     },
     "output_type": "display_data"
    }
   ],
   "source": [
    "# plot fitted regression line \n",
    "X_range = np.expand_dims(np.arange(0,5000,1),1)\n",
    "y_range = regressor.predict(X_range)\n",
    "\n",
    "plt.scatter(X_train,y_train,c='green')\n",
    "plt.plot(X_range,y_range,c='blue')\n",
    "plt.xlim([0,5000])\n",
    "plt.ylim([0,1500000])\n",
    "plt.ylabel(\"Price\")\n",
    "plt.xlabel(\"Living area\")"
   ]
  },
  {
   "cell_type": "markdown",
   "metadata": {
    "id": "3V0oDX18VoTs"
   },
   "source": [
    "If you see a line cutting right across the middle of the green data dots, that's a great sign that our model was able to train properly."
   ]
  },
  {
   "cell_type": "markdown",
   "metadata": {
    "id": "ZbiMoU-4VoTs"
   },
   "source": [
    "### Let's test it with our own input\n",
    "\n",
    "The following input will allow us to estimate a price given a living area. "
   ]
  },
  {
   "cell_type": "code",
   "execution_count": null,
   "metadata": {
    "id": "q_GDViJ0VoTt",
    "scrolled": true
   },
   "outputs": [
    {
     "name": "stdout",
     "output_type": "stream",
     "text": [
      "Type in Q to quit.\n",
      "\n",
      "Living area:\n",
      "10\n",
      "For a living area of 10 sqm, the estimated price is $2636.22 \n",
      "\n",
      "Living area:\n",
      "10\n",
      "For a living area of 10 sqm, the estimated price is $2636.22 \n",
      "\n",
      "Living area:\n",
      "1\n",
      "For a living area of 1 sqm, the estimated price is $263.62 \n",
      "\n",
      "Living area:\n"
     ]
    }
   ],
   "source": [
    "print(\"Type in Q to quit.\\n\")\n",
    "while(True):\n",
    "    print(\"Living area:\")\n",
    "    a = input()\n",
    "\n",
    "    if(a == \"Q\" or a == 'q'):\n",
    "        break;\n",
    "    elif(a.isdigit()):\n",
    "        X_in = np.expand_dims([int(a)],1)\n",
    "        y_in = regressor.predict(X_in)\n",
    "        print(\"For a living area of\", a , \"sqm, the estimated price is $%0.2f \\n\" % np.squeeze(y_in))\n",
    "    else:\n",
    "        print(\"Please enter a valid number.\")"
   ]
  },
  {
   "cell_type": "markdown",
   "metadata": {
    "id": "7w2L_LcKVoTw"
   },
   "source": [
    "**Try this out.** Try putting in a small number for our square footage. Did you see a negative price? \n",
    "\n",
    "Right now, the model predicts negative prices for small inputs. This is because our model does not know that negative prices do not make sense, it will just fit a linear function that extends to the whole range of real numbers including negative numbers. In practice you might want to perform some post processing or some other work arounds to make the predictions more reliable."
   ]
  },
  {
   "cell_type": "markdown",
   "metadata": {
    "id": "S-pyqNYOVoTx"
   },
   "source": [
    "### Analytical solution method in a nutshell\n",
    "The analytical solution / normal equation directly solves for the optimal parameters. This will work well for some problems, but it requires taking the inverse of the matrix $X^TX$. The time complexity of an inverse operation is approximately $O(n^3)$. We also need to store all of our data $X$ in memory to be able to compute for $X^TX$. This makes it impractical to use for very large / high-dimensional datasets. \n",
    "\n",
    "Another way to solve for the parameters is using stochastic gradient descent which we will implement next."
   ]
  },
  {
   "cell_type": "markdown",
   "metadata": {
    "id": "ltRRU_WRVoTy"
   },
   "source": [
    "## Method 2 : Iterative solution using stochastic gradient descent."
   ]
  },
  {
   "cell_type": "markdown",
   "metadata": {
    "id": "e-baxvOsVoTy"
   },
   "source": [
    "The next cells show the step-by-step process of implementing the stochastic gradient descent solution of linear regression:\n",
    "\n",
    "1. Adding $w_0$ in the weight vector $W$ and $x_0$ in $X$ to account for the bias term.\n",
    "2. Initialize the parameters/weight vector $W$\n",
    "3. Calculate the cost/loss/objective function for the current parameters/weights\n",
    "4. Compute for the gradients of the loss function with respect to the parameters/weights\n",
    "5. Update the paramters/weights based on the computed gradients.\n",
    "\n",
    "Like before, we will first test and debug our code using a smaller dummy dataset."
   ]
  },
  {
   "cell_type": "markdown",
   "metadata": {
    "id": "R4ySAgI-VoTz"
   },
   "source": [
    "### Step 1: (Done) Pre-processing! Add in a vector of one to X to account for the bias\n",
    "We have already implemented this!"
   ]
  },
  {
   "cell_type": "markdown",
   "metadata": {
    "id": "hwNKZsYYVoT0"
   },
   "source": [
    "### Step 2: Initialize Weights! Initialize the weights to a random value.\n",
    "\n",
    "\n",
    "**Open `linear_regression.py`, and fill in the code for the function `initialize_weights`.**"
   ]
  },
  {
   "cell_type": "code",
   "execution_count": null,
   "metadata": {
    "id": "-gc5tDJ-VoT1"
   },
   "outputs": [],
   "source": [
    "np.random.seed(1)\n",
    "\n",
    "regressor = LinearRegression()\n",
    "regressor.initialize_weights(5)\n",
    "print(\"Weights vector:\")\n",
    "print(regressor.params[\"W\"])"
   ]
  },
  {
   "cell_type": "markdown",
   "metadata": {
    "id": "f21Gb4siVoT5"
   },
   "source": [
    "**Sanity Check**: \n",
    "\n",
    "Expected output:\n",
    "```\n",
    "Weights vector:\n",
    "[[ 0.01624345]\n",
    " [-0.00611756]\n",
    " [-0.00528172]\n",
    " [-0.01072969]\n",
    " [ 0.00865408]]\n",
    "\n",
    "```"
   ]
  },
  {
   "cell_type": "markdown",
   "metadata": {
    "id": "7duNUeYDVoT6"
   },
   "source": [
    "### Step 3 and 4: Compute for the loss and its gradients with respect to the current weights.\n",
    "\n",
    "**Open `linear_regression.py`, and fill in the code for the function `loss`.**"
   ]
  },
  {
   "cell_type": "code",
   "execution_count": null,
   "metadata": {
    "id": "fHoLuPj2VoT8",
    "scrolled": true
   },
   "outputs": [],
   "source": [
    "np.random.seed(1)\n",
    "\n",
    "regressor = LinearRegression()\n",
    "dummy_X = np.random.randn(5,5)\n",
    "dummy_y = np.random.randn(5,1)\n",
    "regressor.initialize_weights(5)\n",
    "loss, grads = regressor.loss(dummy_X, dummy_y)\n",
    "print(\"Loss :\", loss)\n",
    "print(\"grads['W'] :\",grads['W'])"
   ]
  },
  {
   "cell_type": "markdown",
   "metadata": {
    "id": "dxglRE8EVoT_"
   },
   "source": [
    "**Sanity Check**: \n",
    "\n",
    "Expected output:\n",
    "```\n",
    "Loss : 0.1724358913\n",
    "grads['W'] : [[ 0.48985334]\n",
    " [-0.55388664]\n",
    " [-0.29967106]\n",
    " [-0.26149345]\n",
    " [ 0.25690887]]\n",
    "```"
   ]
  },
  {
   "cell_type": "markdown",
   "metadata": {
    "id": "4kGNtsxbVoUA"
   },
   "source": [
    "### Step 5: Iteratively update the weights based on the gradient.\n",
    "\n",
    "**Open `linear_regression.py`, and fill in the code for the function `train`.**"
   ]
  },
  {
   "cell_type": "code",
   "execution_count": null,
   "metadata": {
    "id": "M3TJYgQmVoUB",
    "scrolled": false
   },
   "outputs": [],
   "source": [
    "regressor = LinearRegression()\n",
    "np.random.seed(1)\n",
    "dummy_X = np.random.randn(1000,5)\n",
    "dummy_y = np.sum(dummy_X*3,axis=1, keepdims=True) + np.random.randn(1000,1)*0.5\n",
    "stats = regressor.train(dummy_X,dummy_y,learning_rate=0.01,num_iters=500,batch_size=50,verbose=True)\n",
    "plt.plot(stats['loss_history'])"
   ]
  },
  {
   "cell_type": "markdown",
   "metadata": {
    "id": "cfQdn7tuVoUF"
   },
   "source": [
    "**Sanity Check**: \n",
    "\n",
    "The loss plot should be exponentially decreasing and the loss values should be similar to the one below.\n",
    "\n",
    "Expected output:\n",
    "```\n",
    "Epoch 0 \t training RMSE: 6.6090\n",
    "Epoch 1 \t training RMSE: 5.3775\n",
    "Epoch 2 \t training RMSE: 5.0075\n",
    "Epoch 3 \t training RMSE: 3.7524\n",
    "Epoch 4 \t training RMSE: 3.6866\n",
    "iteration 100 / 500: loss 3.766868\n",
    "Epoch 5 \t training RMSE: 2.2935\n",
    "Epoch 6 \t training RMSE: 2.2515\n",
    "Epoch 7 \t training RMSE: 1.7601\n",
    "Epoch 8 \t training RMSE: 1.7724\n",
    "Epoch 9 \t training RMSE: 1.9090\n",
    "iteration 200 / 500: loss 1.001868\n",
    "Epoch 10 \t training RMSE: 1.6331\n",
    "Epoch 11 \t training RMSE: 1.1228\n",
    "Epoch 12 \t training RMSE: 1.3707\n",
    "Epoch 13 \t training RMSE: 1.0007\n",
    "Epoch 14 \t training RMSE: 1.4122\n",
    "iteration 300 / 500: loss 0.486848\n",
    "Epoch 15 \t training RMSE: 1.0572\n",
    "Epoch 16 \t training RMSE: 0.8985\n",
    "Epoch 17 \t training RMSE: 0.7991\n",
    "Epoch 18 \t training RMSE: 0.7868\n",
    "Epoch 19 \t training RMSE: 0.7851\n",
    "iteration 400 / 500: loss 0.236503\n",
    "Epoch 20 \t training RMSE: 0.7128\n",
    "Epoch 21 \t training RMSE: 0.7702\n",
    "Epoch 22 \t training RMSE: 0.7366\n",
    "Epoch 23 \t training RMSE: 0.7527\n",
    "Epoch 24 \t training RMSE: 0.5996\n",
    "iteration 500 / 500: loss 0.154280\n",
    "\n",
    "```\n"
   ]
  },
  {
   "cell_type": "markdown",
   "metadata": {
    "id": "E9V0IP3vVoUF"
   },
   "source": [
    "### You have now successfully implemented Linear Regression using Stochastic Gradient Descent. Let's try it out on actual data."
   ]
  },
  {
   "cell_type": "code",
   "execution_count": null,
   "metadata": {
    "id": "0eMSBvxoVoUG"
   },
   "outputs": [],
   "source": [
    "np.random.seed(1)\n",
    "regressor = LinearRegression()\n",
    "stats = regressor.train(X_train,y_train,learning_rate=1e-4,num_iters=500,batch_size=512,verbose=True)\n",
    "plt.plot(stats['loss_history'])"
   ]
  },
  {
   "cell_type": "markdown",
   "metadata": {
    "id": "4D0DiDVzVoUK"
   },
   "source": [
    "**Things not going as expected?** If the magnitude of the output and feature values are quite big, we can easily encounter numerical overflow (or underflow if the magnitude is too small). To address this issue, it is often a good idea to normalize or standardize the data.\n",
    "\n",
    "### (Pre-processing) Standardize the features by subtracting it with its mean and then dividing by its standard deviation."
   ]
  },
  {
   "cell_type": "code",
   "execution_count": null,
   "metadata": {
    "id": "8M2jR9JUVoUL"
   },
   "outputs": [],
   "source": [
    "################################################################################\n",
    "# TODO:                                                                        #\n",
    "# Standardize the training data and the validation data.                       #\n",
    "################################################################################\n",
    "\n",
    "X_train_norm = None\n",
    "y_train_norm = None\n",
    "\n",
    "X_val_norm = None\n",
    "y_val_norm = None\n",
    "\n",
    "################################################################################\n",
    "#                                 END OF YOUR CODE                             #\n",
    "################################################################################"
   ]
  },
  {
   "cell_type": "code",
   "execution_count": null,
   "metadata": {
    "id": "1eImh-zcVoUQ"
   },
   "outputs": [],
   "source": [
    "np.random.seed(1)\n",
    "regressor = LinearRegression()\n",
    "stats = regressor.train(X_train_norm,y_train_norm,X_val_norm, y_val_norm,\n",
    "                            learning_rate=1e-2,learning_rate_decay=0.9,num_iters=1000,batch_size=512,verbose=True)"
   ]
  },
  {
   "cell_type": "markdown",
   "metadata": {
    "id": "ElrPIIBYVoUU"
   },
   "source": [
    "**Sanity check**\n",
    "```\n",
    "Epoch 0 \t training RMSE: 0.9630\n",
    "\t\t validation RMSE: 0.9605\n",
    "Epoch 1 \t training RMSE: 0.8200\n",
    "\t\t validation RMSE: 0.8651\n",
    "Epoch 2 \t training RMSE: 0.8288\n",
    "\t\t validation RMSE: 0.8060\n",
    "Epoch 3 \t training RMSE: 1.0526\n",
    "\t\t validation RMSE: 0.7706\n",
    "iteration 100 / 1000: loss 0.319256\n",
    "Epoch 4 \t training RMSE: 0.7171\n",
    "\t\t validation RMSE: 0.7453\n",
    "Epoch 5 \t training RMSE: 0.8004\n",
    "\t\t validation RMSE: 0.7308\n",
    "Epoch 6 \t training RMSE: 0.7045\n",
    "\t\t validation RMSE: 0.7204\n",
    "iteration 200 / 1000: loss 0.354085\n",
    "Epoch 7 \t training RMSE: 0.7163\n",
    "\t\t validation RMSE: 0.7136\n",
    "Epoch 8 \t training RMSE: 0.8864\n",
    "\t\t validation RMSE: 0.7091\n",
    "Epoch 9 \t training RMSE: 0.7350\n",
    "\t\t validation RMSE: 0.7050\n",
    "Epoch 10 \t training RMSE: 0.7186\n",
    "\t\t validation RMSE: 0.7037\n",
    "iteration 300 / 1000: loss 0.195399\n",
    "Epoch 11 \t training RMSE: 0.6950\n",
    "\t\t validation RMSE: 0.7017\n",
    "Epoch 12 \t training RMSE: 0.7377\n",
    "\t\t validation RMSE: 0.7007\n",
    "Epoch 13 \t training RMSE: 0.7426\n",
    "\t\t validation RMSE: 0.6996\n",
    "iteration 400 / 1000: loss 0.275122\n",
    "Epoch 14 \t training RMSE: 0.8269\n",
    "\t\t validation RMSE: 0.6986\n",
    "Epoch 15 \t training RMSE: 0.6815\n",
    "\t\t validation RMSE: 0.6979\n",
    "Epoch 16 \t training RMSE: 0.6626\n",
    "\t\t validation RMSE: 0.6973\n",
    "Epoch 17 \t training RMSE: 0.8149\n",
    "\t\t validation RMSE: 0.6969\n",
    "iteration 500 / 1000: loss 0.284460\n",
    "Epoch 18 \t training RMSE: 0.7000\n",
    "\t\t validation RMSE: 0.6966\n",
    "Epoch 19 \t training RMSE: 0.8664\n",
    "\t\t validation RMSE: 0.6963\n",
    "Epoch 20 \t training RMSE: 0.6585\n",
    "\t\t validation RMSE: 0.6961\n",
    "iteration 600 / 1000: loss 0.219908\n",
    "Epoch 21 \t training RMSE: 0.6556\n",
    "\t\t validation RMSE: 0.6960\n",
    "Epoch 22 \t training RMSE: 0.6476\n",
    "\t\t validation RMSE: 0.6958\n",
    "Epoch 23 \t training RMSE: 0.6376\n",
    "\t\t validation RMSE: 0.6957\n",
    "Epoch 24 \t training RMSE: 0.8272\n",
    "\t\t validation RMSE: 0.6956\n",
    "iteration 700 / 1000: loss 0.179505\n",
    "Epoch 25 \t training RMSE: 0.7812\n",
    "\t\t validation RMSE: 0.6955\n",
    "Epoch 26 \t training RMSE: 0.7189\n",
    "\t\t validation RMSE: 0.6954\n",
    "Epoch 27 \t training RMSE: 0.6691\n",
    "\t\t validation RMSE: 0.6953\n",
    "iteration 800 / 1000: loss 0.233584\n",
    "Epoch 28 \t training RMSE: 0.8886\n",
    "\t\t validation RMSE: 0.6952\n",
    "Epoch 29 \t training RMSE: 0.6723\n",
    "\t\t validation RMSE: 0.6952\n",
    "Epoch 30 \t training RMSE: 0.7169\n",
    "\t\t validation RMSE: 0.6951\n",
    "iteration 900 / 1000: loss 0.352268\n",
    "Epoch 31 \t training RMSE: 0.8394\n",
    "\t\t validation RMSE: 0.6951\n",
    "Epoch 32 \t training RMSE: 0.6996\n",
    "\t\t validation RMSE: 0.6951\n",
    "Epoch 33 \t training RMSE: 0.7227\n",
    "\t\t validation RMSE: 0.6950\n",
    "Epoch 34 \t training RMSE: 0.6987\n",
    "\t\t validation RMSE: 0.6950\n",
    "iteration 1000 / 1000: loss 0.371101\n",
    "```"
   ]
  },
  {
   "cell_type": "markdown",
   "metadata": {
    "id": "lE-9xitGVoUV"
   },
   "source": [
    "Are your results slightly different? You might want to consider checking your code again. \n",
    "\n",
    "**Hint**: it may have to do with how you treat your data before predicting."
   ]
  },
  {
   "cell_type": "markdown",
   "metadata": {
    "id": "km397TLIVoUW"
   },
   "source": [
    "It is useful to keep track of the losses as well as both the training set performance and the validation set performance while training so we can get some insights as to how the learning process is going. We will be discussing more on error analysis later on in the course. Let's visualize the loss history as well as the RMSE history of the training set and validation set during training process. "
   ]
  },
  {
   "cell_type": "code",
   "execution_count": null,
   "metadata": {
    "id": "AT5WFi16VoUW"
   },
   "outputs": [],
   "source": [
    "plt.figure(figsize=(10,10))\n",
    "plt.subplot(2, 1, 1)\n",
    "plt.plot(stats['loss_history'])\n",
    "plt.title('Loss history')\n",
    "plt.xlabel('Iteration')\n",
    "plt.ylabel('Loss')\n",
    "\n",
    "plt.subplot(2, 1, 2)\n",
    "tr = plt.plot(stats['train_rmse'], label='train')\n",
    "vl = plt.plot(stats['val_rmse'], label='val')\n",
    "plt.title('Root Mean Squared Error history')\n",
    "plt.xlabel('Epoch')\n",
    "plt.ylabel('Root Mean Squared Error')\n",
    "plt.legend(('val','train'))\n",
    "plt.show()"
   ]
  },
  {
   "cell_type": "markdown",
   "metadata": {
    "id": "mFSHd2IiVoUa"
   },
   "source": [
    "All of them seem to be converging, which is usually a good sign.\n",
    "\n",
    "Now that we have trained our model, we need to convert the predicted values back to its original scale."
   ]
  },
  {
   "cell_type": "code",
   "execution_count": null,
   "metadata": {
    "id": "5baNtf0gVoUa",
    "scrolled": false
   },
   "outputs": [],
   "source": [
    "# plot fitted regression line \n",
    "X_range = np.expand_dims(np.arange(0,5000,1),1)\n",
    "################################################################################\n",
    "# TODO:                                                                        #\n",
    "# Standardize the data.                                                        #\n",
    "################################################################################\n",
    "X_range_norm = None\n",
    "\n",
    "################################################################################\n",
    "#                                 END OF YOUR CODE                             #\n",
    "################################################################################\n",
    "\n",
    "y_range_norm = regressor.predict(X_range_norm)\n",
    "\n",
    "################################################################################\n",
    "# TODO:                                                                        #\n",
    "# Convert the predicted y values back to its original scale.                   #\n",
    "################################################################################\n",
    "y_range = None\n",
    "################################################################################\n",
    "#                                 END OF YOUR CODE                             #\n",
    "################################################################################\n",
    "plt.scatter(X_train,y_train,c='green')\n",
    "plt.plot(X_range,y_range,c='blue')\n",
    "plt.xlim([0,5000])\n",
    "plt.ylim([0,1500000])\n",
    "plt.ylabel(\"Price\")\n",
    "plt.xlabel(\"Living area\")"
   ]
  },
  {
   "cell_type": "markdown",
   "metadata": {
    "id": "Ps6n3kR2VoUe"
   },
   "source": [
    "### We can now try the model on the separate test set in order to fairly evaluate its performance."
   ]
  },
  {
   "cell_type": "code",
   "execution_count": null,
   "metadata": {
    "id": "VkqwW6e7VoUe"
   },
   "outputs": [],
   "source": [
    "# plot fitted regression line \n",
    "\n",
    "################################################################################\n",
    "# TODO:                                                                        #\n",
    "# Standardize the your training and validation data by subtracting it with     #\n",
    "# its mean and then dividing by its standard deviation.                        #\n",
    "################################################################################\n",
    "X_test_norm = None\n",
    "y_test_norm = None\n",
    "################################################################################\n",
    "#                                 END OF YOUR CODE                             #\n",
    "################################################################################\n",
    "\n",
    "y_test_norm_pred = regressor.predict(X_test_norm)\n",
    "\n",
    "################################################################################\n",
    "# TODO:                                                                        #\n",
    "# Convert the predicted y values back to its original scale.                   #\n",
    "################################################################################\n",
    "y_test_pred = None\n",
    "################################################################################\n",
    "#                                 END OF YOUR CODE                             #\n",
    "################################################################################\n",
    "\n",
    "\n",
    "\n",
    "plt.scatter(X_test,y_test,c='green')\n",
    "plt.plot(X_test,y_test_pred,c='blue')\n",
    "plt.xlim([0,5000])\n",
    "plt.ylim([0,1500000])\n",
    "plt.ylabel(\"Price\")\n",
    "plt.xlabel(\"Living area\")"
   ]
  },
  {
   "cell_type": "code",
   "execution_count": null,
   "metadata": {
    "id": "KF7cytAjVoUi",
    "scrolled": true
   },
   "outputs": [],
   "source": [
    "RMSE = np.sqrt(np.mean((y_test_norm_pred - y_test_norm)**2))\n",
    "print(\"Test set RMSE:\",RMSE)"
   ]
  },
  {
   "cell_type": "markdown",
   "metadata": {
    "id": "m_ijBSa1VoUm"
   },
   "source": [
    "### How does the learning rate affect the training?\n",
    "In practice, we do not know the optimal learning rate in advanced. One way to search for a good learning rate is to try different values of it."
   ]
  },
  {
   "cell_type": "code",
   "execution_count": null,
   "metadata": {
    "id": "0yVAoCE4VoUm"
   },
   "outputs": [],
   "source": [
    "np.random.seed(1)\n",
    "alphas = [1e-1, 1e-2, 1e-3, 1e-4, 1e-5, 1e-6]\n",
    "plt_ctr = 1\n",
    "plt.figure(figsize=(15,10))\n",
    "for alpha in alphas:\n",
    "    regressor = LinearRegression()\n",
    "    stats = regressor.train(X_train_norm,y_train_norm,X_val_norm, y_val_norm,\n",
    "                                learning_rate=alpha,learning_rate_decay=0.9,num_iters=1000,batch_size=512,verbose=False)\n",
    "    plt.subplot(2,3,plt_ctr)\n",
    "    plt.plot(stats['loss_history'])\n",
    "    plt.title('Loss history (alpha = '+str(alpha)+')')\n",
    "    plt.xlabel('Iteration')\n",
    "    plt.ylabel('Loss')\n",
    "    plt_ctr+=1"
   ]
  },
  {
   "cell_type": "markdown",
   "metadata": {
    "id": "H996PtDiVoUr"
   },
   "source": [
    "Looking at the shape of the loss plot the optimal learning rate would be near 0.01. Later on in the course we will be discussing how to efficiently tune hyperparameters such as the learning rate."
   ]
  },
  {
   "cell_type": "markdown",
   "metadata": {
    "id": "HvK71tumVoUr"
   },
   "source": [
    "## Experiment!\n",
    "We have only used one feature so far. Try out other feature combinations to improve the model's performance. Feel free to try out other things as well. :)"
   ]
  },
  {
   "cell_type": "markdown",
   "metadata": {
    "id": "aqQTQN_aVoUs"
   },
   "source": [
    "## <center> fin </center>"
   ]
  },
  {
   "cell_type": "markdown",
   "metadata": {
    "id": "mA75xf_eVoUt"
   },
   "source": [
    "\n",
    "<sup>made/compiled by daniel stanley tan & courtney anne ngo 🐰 & thomas james tiam-lee</sup> <br>\n",
    "<sup>for comments, corrections, suggestions, please email:</sup><sup> danieltan07@gmail.com & courtneyngo@gmail.com & thomasjamestiamlee@gmail.com</sup><br>\n",
    "<sup>please cc your instructor, too</sup>\n",
    "<!-- DO NOT MODIFY OR DELETE THIS -->\n"
   ]
  }
 ],
 "metadata": {
  "colab": {
   "name": "02 - Linear Regression - blank.ipynb",
   "provenance": []
  },
  "kernelspec": {
   "display_name": "Python 3",
   "language": "python",
   "name": "python3"
  },
  "language_info": {
   "codemirror_mode": {
    "name": "ipython",
    "version": 3
   },
   "file_extension": ".py",
   "mimetype": "text/x-python",
   "name": "python",
   "nbconvert_exporter": "python",
   "pygments_lexer": "ipython3",
   "version": "3.7.4"
  }
 },
 "nbformat": 4,
 "nbformat_minor": 1
}
